{
 "cells": [
  {
   "cell_type": "markdown",
   "id": "c174f37e",
   "metadata": {},
   "source": [
    "## 1. Write a Python program to print &quot;Hello Python&quot;?"
   ]
  },
  {
   "cell_type": "code",
   "execution_count": null,
   "id": "e898b800",
   "metadata": {},
   "outputs": [],
   "source": [
    "print('Hello Python')"
   ]
  },
  {
   "cell_type": "markdown",
   "id": "c36b0851",
   "metadata": {},
   "source": [
    "## 2. Write a Python program to do arithmetical operations addition and division.?"
   ]
  },
  {
   "cell_type": "code",
   "execution_count": null,
   "id": "fef82085",
   "metadata": {},
   "outputs": [],
   "source": [
    "a=eval(input('Enter the first Number '))\n",
    "b=eval(input('Enter the second Number '))\n",
    "#Addition\n",
    "print(f'The addition of {a} + {b} is {a+b}')\n",
    "#Division\n",
    "print(f'The Division of {a} / {b} is {a/b}')"
   ]
  },
  {
   "cell_type": "markdown",
   "id": "67ca2722",
   "metadata": {},
   "source": [
    "## 3. Write a Python program to find the area of a triangle?"
   ]
  },
  {
   "cell_type": "code",
   "execution_count": null,
   "id": "a1793c20",
   "metadata": {},
   "outputs": [],
   "source": [
    "a = float(input('Enter first side: '))  \n",
    "b = float(input('Enter second side: '))  \n",
    "c = float(input('Enter third side: '))  \n",
    "  \n",
    "p = (a + b + c) / 2                                  #Semi -perimeter\n",
    "area = (p*(p-a)*(p-b)*(p-c)) ** 0.5                  #Area\n",
    "print(area) "
   ]
  },
  {
   "cell_type": "markdown",
   "id": "8ace4adf",
   "metadata": {},
   "source": [
    "## 4. Write a Python program to swap two variables?"
   ]
  },
  {
   "cell_type": "code",
   "execution_count": null,
   "id": "441346f3",
   "metadata": {},
   "outputs": [],
   "source": [
    "x = 100\n",
    "y = 200\n",
    " \n",
    "x, y = y, x               # Swapping of two variables\n",
    " \n",
    "print(\"Value of x:\", x)\n",
    "print(\"Value of y:\", y)"
   ]
  },
  {
   "cell_type": "markdown",
   "id": "51d99a29",
   "metadata": {},
   "source": [
    "## 5. Write a Python program to generate a random number?"
   ]
  },
  {
   "cell_type": "code",
   "execution_count": null,
   "id": "aa1998b6",
   "metadata": {},
   "outputs": [],
   "source": [
    "import random\n",
    "\n",
    "print(random.randint(0,9))"
   ]
  }
 ],
 "metadata": {
  "kernelspec": {
   "display_name": "Python 3 (ipykernel)",
   "language": "python",
   "name": "python3"
  },
  "language_info": {
   "codemirror_mode": {
    "name": "ipython",
    "version": 3
   },
   "file_extension": ".py",
   "mimetype": "text/x-python",
   "name": "python",
   "nbconvert_exporter": "python",
   "pygments_lexer": "ipython3",
   "version": "3.9.12"
  }
 },
 "nbformat": 4,
 "nbformat_minor": 5
}
